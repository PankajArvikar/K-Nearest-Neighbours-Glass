{
 "cells": [
  {
   "cell_type": "markdown",
   "id": "3ac70d37",
   "metadata": {},
   "source": [
    "## Importing Libraries"
   ]
  },
  {
   "cell_type": "code",
   "execution_count": null,
   "id": "605cea47",
   "metadata": {},
   "outputs": [],
   "source": [
    "import pandas as pd\n",
    "import numpy as np\n",
    "import seaborn as sns\n",
    "import matplotlib.pyplot as plt\n",
    "from sklearn.model_selection import GridSearchCV, train_test_split\n",
    "from sklearn.neighbors import KNeighborsClassifier\n",
    "from sklearn.metrics import accuracy_score\n",
    "import warnings\n",
    "warnings.filterwarnings('ignore')"
   ]
  },
  {
   "cell_type": "markdown",
   "id": "b86b471f",
   "metadata": {},
   "source": [
    "## Importing Dataset"
   ]
  },
  {
   "cell_type": "code",
   "execution_count": null,
   "id": "52986f12",
   "metadata": {},
   "outputs": [],
   "source": [
    "glass = pd.read_csv('glass.csv')\n",
    "glass.head()"
   ]
  },
  {
   "cell_type": "markdown",
   "id": "fe4bab34",
   "metadata": {},
   "source": [
    "## EDA"
   ]
  },
  {
   "cell_type": "markdown",
   "id": "cbcadb53",
   "metadata": {},
   "source": [
    "### Overview of dataset"
   ]
  },
  {
   "cell_type": "code",
   "execution_count": null,
   "id": "05fb08eb",
   "metadata": {},
   "outputs": [],
   "source": [
    "glass.info()"
   ]
  },
  {
   "cell_type": "code",
   "execution_count": null,
   "id": "b6b0c6fe",
   "metadata": {},
   "outputs": [],
   "source": [
    "glass.isnull().sum()"
   ]
  },
  {
   "cell_type": "code",
   "execution_count": null,
   "id": "cee47ea5",
   "metadata": {},
   "outputs": [],
   "source": [
    "glass.describe()"
   ]
  },
  {
   "cell_type": "markdown",
   "id": "c2b0574a",
   "metadata": {},
   "source": [
    "### Dataset converted into array "
   ]
  },
  {
   "cell_type": "code",
   "execution_count": null,
   "id": "db51137c",
   "metadata": {},
   "outputs": [],
   "source": [
    "glass_array = glass.values"
   ]
  },
  {
   "cell_type": "markdown",
   "id": "59572fdf",
   "metadata": {},
   "source": [
    "### Splitting dataset into features and labels"
   ]
  },
  {
   "cell_type": "code",
   "execution_count": null,
   "id": "e7b006fa",
   "metadata": {},
   "outputs": [],
   "source": [
    "x = glass_array[:,:-1]\n",
    "y = glass_array[:,-1]\n",
    "y"
   ]
  },
  {
   "cell_type": "markdown",
   "id": "4765d4aa",
   "metadata": {},
   "source": [
    "### Preparing Train-test dataset"
   ]
  },
  {
   "cell_type": "code",
   "execution_count": null,
   "id": "35241bb4",
   "metadata": {},
   "outputs": [],
   "source": [
    "x_train, x_test, y_train, y_test = train_test_split(x, y, test_size=0.2, random_state=40)\n",
    "x_train"
   ]
  },
  {
   "cell_type": "markdown",
   "id": "74dc7865",
   "metadata": {},
   "source": [
    "## Building Model"
   ]
  },
  {
   "cell_type": "code",
   "execution_count": null,
   "id": "9884fc32",
   "metadata": {},
   "outputs": [],
   "source": [
    "n_neighbors = np.array(range(1,50))\n",
    "param_grid = dict(n_neighbors=n_neighbors)"
   ]
  },
  {
   "cell_type": "code",
   "execution_count": null,
   "id": "7e260bbe",
   "metadata": {},
   "outputs": [],
   "source": [
    "model = KNeighborsClassifier()\n",
    "grid = GridSearchCV(estimator=model, param_grid=param_grid, cv = 10)\n",
    "grid.fit(x_train, y_train)"
   ]
  },
  {
   "cell_type": "code",
   "execution_count": null,
   "id": "126433b8",
   "metadata": {},
   "outputs": [],
   "source": [
    "print(grid.best_score_)\n",
    "print(grid.best_params_)"
   ]
  },
  {
   "cell_type": "markdown",
   "id": "32ddc99c",
   "metadata": {},
   "source": [
    "#### From above, we can say that with 1 nearest neighbours we are getting best score."
   ]
  },
  {
   "cell_type": "markdown",
   "id": "a168425c",
   "metadata": {},
   "source": [
    "### Checking accuracy of model"
   ]
  },
  {
   "cell_type": "code",
   "execution_count": null,
   "id": "f4a5f133",
   "metadata": {},
   "outputs": [],
   "source": [
    "model_final = KNeighborsClassifier(n_neighbors=1)\n",
    "model_final.fit(x_train, y_train)"
   ]
  },
  {
   "cell_type": "code",
   "execution_count": null,
   "id": "6dba56f0",
   "metadata": {},
   "outputs": [],
   "source": [
    "pred = model_final.predict(x_test)\n",
    "accuracy_score(y_test, pred)"
   ]
  }
 ],
 "metadata": {
  "kernelspec": {
   "display_name": "Python 3",
   "language": "python",
   "name": "python3"
  },
  "language_info": {
   "codemirror_mode": {
    "name": "ipython",
    "version": 3
   },
   "file_extension": ".py",
   "mimetype": "text/x-python",
   "name": "python",
   "nbconvert_exporter": "python",
   "pygments_lexer": "ipython3",
   "version": "3.8.8"
  }
 },
 "nbformat": 4,
 "nbformat_minor": 5
}
